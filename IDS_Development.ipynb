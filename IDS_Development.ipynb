{
  "cells": [
    {
      "cell_type": "code",
      "execution_count": 1,
      "metadata": {
        "id": "maUo2WBqdneE"
      },
      "outputs": [],
      "source": [
        "import numpy as np\n",
        "import pandas as pd\n",
        "from pandas.core.internals.blocks import F\n",
        "import numpy as np\n",
        "import pandas as pd\n",
        "from datetime import datetime\n",
        "#from google.colab import drive\n",
        "from zipfile import ZipFile\n",
        "import seaborn as sn\n",
        "import matplotlib.pyplot as plt"
      ]
    },
    {
      "cell_type": "code",
      "execution_count": 2,
      "metadata": {
        "id": "YDMQc4HLl9KK"
      },
      "outputs": [
        {
          "name": "stdout",
          "output_type": "stream",
          "text": [
            "Requirement already satisfied: scikit-learn in /home/codespace/.local/lib/python3.10/site-packages (1.4.1.post1)\n",
            "Collecting scikit-learn\n",
            "  Downloading scikit_learn-1.4.2-cp310-cp310-manylinux_2_17_x86_64.manylinux2014_x86_64.whl.metadata (11 kB)\n",
            "Requirement already satisfied: numpy>=1.19.5 in /home/codespace/.local/lib/python3.10/site-packages (from scikit-learn) (1.26.4)\n",
            "Requirement already satisfied: scipy>=1.6.0 in /home/codespace/.local/lib/python3.10/site-packages (from scikit-learn) (1.13.0)\n",
            "Requirement already satisfied: joblib>=1.2.0 in /home/codespace/.local/lib/python3.10/site-packages (from scikit-learn) (1.3.2)\n",
            "Requirement already satisfied: threadpoolctl>=2.0.0 in /home/codespace/.local/lib/python3.10/site-packages (from scikit-learn) (3.4.0)\n",
            "Downloading scikit_learn-1.4.2-cp310-cp310-manylinux_2_17_x86_64.manylinux2014_x86_64.whl (12.1 MB)\n",
            "\u001b[2K   \u001b[90m━━━━━━━━━━━━━━━━━━━━━━━━━━━━━━━━━━━━━━━━\u001b[0m \u001b[32m12.1/12.1 MB\u001b[0m \u001b[31m36.1 MB/s\u001b[0m eta \u001b[36m0:00:00\u001b[0m00:01\u001b[0m00:01\u001b[0m\n",
            "\u001b[?25hInstalling collected packages: scikit-learn\n",
            "  Attempting uninstall: scikit-learn\n",
            "    Found existing installation: scikit-learn 1.4.1.post1\n",
            "    Uninstalling scikit-learn-1.4.1.post1:\n",
            "      Successfully uninstalled scikit-learn-1.4.1.post1\n",
            "Successfully installed scikit-learn-1.4.2\n",
            "Note: you may need to restart the kernel to use updated packages.\n"
          ]
        }
      ],
      "source": [
        "pip install --upgrade scikit-learn"
      ]
    },
    {
      "cell_type": "code",
      "execution_count": 3,
      "metadata": {
        "id": "ZElHOcGcdq9h"
      },
      "outputs": [],
      "source": [
        "from sklearn.model_selection import train_test_split\n",
        "from sklearn.preprocessing import StandardScaler\n",
        "from sklearn.svm import SVC\n",
        "from sklearn.metrics import confusion_matrix\n",
        "#from sklearn.metrics import plot_confusion_matrix\n",
        "from sklearn import tree\n",
        "from sklearn.metrics import classification_report\n",
        "from sklearn.metrics import accuracy_score\n",
        "from sklearn import neighbors, datasets\n",
        "#from sklearn.inspection import DecisionBoundaryDisplay\n",
        "import sklearn.metrics\n",
        "from sklearn import metrics\n",
        "from sklearn.metrics import f1_score\n",
        "from sklearn.metrics import mean_squared_error\n",
        "\n",
        "import matplotlib.pyplot as plt\n",
        "\n",
        "from sklearn import preprocessing\n",
        "label_encoder = preprocessing.LabelEncoder()"
      ]
    },
    {
      "cell_type": "code",
      "execution_count": null,
      "metadata": {
        "id": "VwT0YMKUZuwh"
      },
      "outputs": [],
      "source": [
        "#drive.mount('/content/drive')"
      ]
    },
    {
      "cell_type": "code",
      "execution_count": null,
      "metadata": {
        "id": "MyiINNxuaDYb"
      },
      "outputs": [],
      "source": [
        "# To confirm the drive is properly mounted, let's list to show outline and contents.\n",
        "#!ls drive/MyDrive/"
      ]
    },
    {
      "cell_type": "code",
      "execution_count": 4,
      "metadata": {
        "id": "L-KzklMXaPK4"
      },
      "outputs": [],
      "source": [
        "# The dataset is a zip file, we have to extract the individual files using the ZipFile python library.\n",
        "with ZipFile(\"CAN_dataset_old.zip\", \"r\") as zObject:\n",
        "    zObject.extractall()"
      ]
    },
    {
      "cell_type": "code",
      "execution_count": 5,
      "metadata": {
        "colab": {
          "base_uri": "https://localhost:8080/"
        },
        "id": "pe2eoAi0an5E",
        "outputId": "f4bce072-112f-47ac-815c-3bf2f0c453bc"
      },
      "outputs": [
        {
          "name": "stdout",
          "output_type": "stream",
          "text": [
            "CAN_attack_dataset2  IDS_Development.ipynb  newdata.csv\n",
            "CAN_dataset_old.zip  __MACOSX\n"
          ]
        }
      ],
      "source": [
        "# To confirm the zipfile was extract, we'll list the content of this notebote file path\n",
        "!ls"
      ]
    },
    {
      "cell_type": "markdown",
      "metadata": {
        "id": "UpIcxtYCjtRw"
      },
      "source": [
        "## Reading of Dataset"
      ]
    },
    {
      "cell_type": "code",
      "execution_count": 6,
      "metadata": {
        "id": "VgTvd5tCEN_K"
      },
      "outputs": [],
      "source": [
        "# Since the dataset is made up of subdataset, we'll read them individually using the function below.\n",
        "folder_name = \"CAN_attack_dataset2\"\n",
        "\n",
        "#def read_datasets(folder_name: str):\n",
        "AttackFree= pd.read_csv(f'{folder_name}/Attack_free_CAN_data.csv')[0:136933]\n",
        "Flooding= pd.read_csv(f'{folder_name}/Flooding_CAN_data.csv')[0:84999]\n",
        "Fuzzy= pd.read_csv(f'{folder_name}/Fuzzy_CAN_data.csv')[0:40999]\n",
        "Malfunction= pd.read_csv(f'{folder_name}/Malfunction_CAN_data.csv')[0:50999]\n",
        "\n",
        "# Then call the defined function.\n",
        "#read_datasets(folder_name)"
      ]
    },
    {
      "cell_type": "markdown",
      "metadata": {
        "id": "8WDR8CapjqoV"
      },
      "source": [
        "## Label Encoding"
      ]
    },
    {
      "cell_type": "code",
      "execution_count": 7,
      "metadata": {
        "colab": {
          "base_uri": "https://localhost:8080/",
          "height": 70
        },
        "id": "0P-GZa8SEVYH",
        "outputId": "7728a1e7-8f2d-4661-b382-50452a03d61e"
      },
      "outputs": [
        {
          "data": {
            "text/plain": [
              "\"\\nWhat was done in this stage is label encoding.\\nLabel encoding is a process of converting categorical data into numerical form.\\nIt assigns a unique integer to each category in the feature.\\nThis transformation is often used in machine learning algorithms that expect numerical input data.\\nHowever, it's essential to note that label encoding might introduce an implicit ordinal relationship between categories,\\nwhich may not exist in the data.\\n\""
            ]
          },
          "execution_count": 7,
          "metadata": {},
          "output_type": "execute_result"
        }
      ],
      "source": [
        "# Attack-Free\n",
        "\"\"\"\n",
        "For each column (from index 1 to 15) in the AttackFree DataFrame below,\n",
        "the fit_transform method of the label_encoder object is applied to encode categorical labels into numerical values.\n",
        "This transformation is applied in place.\n",
        "\"\"\"\n",
        "\n",
        "AttackFree.iloc[:, 1]= label_encoder.fit_transform(AttackFree.iloc[:, 1])\n",
        "AttackFree.iloc[:, 2]= label_encoder.fit_transform(AttackFree.iloc[:, 2])\n",
        "AttackFree.iloc[:, 3]= label_encoder.fit_transform(AttackFree.iloc[:, 3])\n",
        "AttackFree.iloc[:, 4]= label_encoder.fit_transform(AttackFree.iloc[:, 4])\n",
        "AttackFree.iloc[:, 5]= label_encoder.fit_transform(AttackFree.iloc[:, 5])\n",
        "AttackFree.iloc[:, 6]= label_encoder.fit_transform(AttackFree.iloc[:, 6])\n",
        "AttackFree.iloc[:, 7]= label_encoder.fit_transform(AttackFree.iloc[:, 7])\n",
        "AttackFree.iloc[:, 8]= label_encoder.fit_transform(AttackFree.iloc[:, 8])\n",
        "AttackFree.iloc[:, 9]= label_encoder.fit_transform(AttackFree.iloc[:, 9])\n",
        "AttackFree.iloc[:, 10]= label_encoder.fit_transform(AttackFree.iloc[:, 10])\n",
        "AttackFree.iloc[:, 11]= label_encoder.fit_transform(AttackFree.iloc[:, 11])\n",
        "AttackFree.iloc[:, 12]= label_encoder.fit_transform(AttackFree.iloc[:, 12])\n",
        "AttackFree.iloc[:, 13]= label_encoder.fit_transform(AttackFree.iloc[:, 13])\n",
        "AttackFree.iloc[:, 14]= label_encoder.fit_transform(AttackFree.iloc[:, 14])\n",
        "AttackFree.iloc[:, 15]= label_encoder.fit_transform(AttackFree.iloc[:, 15])\n",
        "\n",
        "# Flooding\n",
        "\"\"\"\n",
        "Same thing in the AttackFree class was done below, in the Flooding, Fuzzy and Malfunction classes.\n",
        "\"\"\"\n",
        "Flooding.iloc[:, 1]= label_encoder.fit_transform(Flooding.iloc[:, 1])\n",
        "Flooding.iloc[:, 2]= label_encoder.fit_transform(Flooding.iloc[:, 2])\n",
        "Flooding.iloc[:, 3]= label_encoder.fit_transform(Flooding.iloc[:, 3])\n",
        "Flooding.iloc[:, 4]= label_encoder.fit_transform(Flooding.iloc[:, 4])\n",
        "Flooding.iloc[:, 5]= label_encoder.fit_transform(Flooding.iloc[:, 5])\n",
        "Flooding.iloc[:, 6]= label_encoder.fit_transform(Flooding.iloc[:, 6])\n",
        "Flooding.iloc[:, 7]= label_encoder.fit_transform(Flooding.iloc[:, 7])\n",
        "Flooding.iloc[:, 8]= label_encoder.fit_transform(Flooding.iloc[:, 8])\n",
        "Flooding.iloc[:, 9]= label_encoder.fit_transform(Flooding.iloc[:, 9])\n",
        "Flooding.iloc[:, 10]= label_encoder.fit_transform(Flooding.iloc[:, 10])\n",
        "Flooding.iloc[:, 11]= label_encoder.fit_transform(Flooding.iloc[:, 11])\n",
        "Flooding.iloc[:, 12]= label_encoder.fit_transform(Flooding.iloc[:, 12])\n",
        "Flooding.iloc[:, 13]= label_encoder.fit_transform(Flooding.iloc[:, 13])\n",
        "Flooding.iloc[:, 14]= label_encoder.fit_transform(Flooding.iloc[:, 14])\n",
        "Flooding.iloc[:, 15]= label_encoder.fit_transform(Flooding.iloc[:, 15])\n",
        "\n",
        "# Fuzzy\n",
        "Fuzzy.iloc[:, 1]= label_encoder.fit_transform(Fuzzy.iloc[:, 1])\n",
        "Fuzzy.iloc[:, 2]= label_encoder.fit_transform(Fuzzy.iloc[:, 2])\n",
        "Fuzzy.iloc[:, 3]= label_encoder.fit_transform(Fuzzy.iloc[:, 3])\n",
        "Fuzzy.iloc[:, 4]= label_encoder.fit_transform(Fuzzy.iloc[:, 4])\n",
        "Fuzzy.iloc[:, 5]= label_encoder.fit_transform(Fuzzy.iloc[:, 5])\n",
        "Fuzzy.iloc[:, 6]= label_encoder.fit_transform(Fuzzy.iloc[:, 6])\n",
        "Fuzzy.iloc[:, 7]= label_encoder.fit_transform(Fuzzy.iloc[:, 7])\n",
        "Fuzzy.iloc[:, 8]= label_encoder.fit_transform(Fuzzy.iloc[:, 8])\n",
        "Fuzzy.iloc[:, 9]= label_encoder.fit_transform(Fuzzy.iloc[:, 9])\n",
        "Fuzzy.iloc[:, 10]= label_encoder.fit_transform(Fuzzy.iloc[:, 10])\n",
        "Fuzzy.iloc[:, 11]= label_encoder.fit_transform(Fuzzy.iloc[:, 11])\n",
        "Fuzzy.iloc[:, 12]= label_encoder.fit_transform(Fuzzy.iloc[:, 12])\n",
        "Fuzzy.iloc[:, 13]= label_encoder.fit_transform(Fuzzy.iloc[:, 13])\n",
        "Fuzzy.iloc[:, 14]= label_encoder.fit_transform(Fuzzy.iloc[:, 14])\n",
        "Fuzzy.iloc[:, 15]= label_encoder.fit_transform(Fuzzy.iloc[:, 15])\n",
        "\n",
        "# Malfunction\n",
        "Malfunction.iloc[:, 1]= label_encoder.fit_transform(Malfunction.iloc[:, 1])\n",
        "Malfunction.iloc[:, 2]= label_encoder.fit_transform(Malfunction.iloc[:, 2])\n",
        "Malfunction.iloc[:, 3]= label_encoder.fit_transform(Malfunction.iloc[:, 3])\n",
        "Malfunction.iloc[:, 4]= label_encoder.fit_transform(Malfunction.iloc[:, 4])\n",
        "Malfunction.iloc[:, 5]= label_encoder.fit_transform(Malfunction.iloc[:, 5])\n",
        "Malfunction.iloc[:, 6]= label_encoder.fit_transform(Malfunction.iloc[:, 6])\n",
        "Malfunction.iloc[:, 7]= label_encoder.fit_transform(Malfunction.iloc[:, 7])\n",
        "Malfunction.iloc[:, 8]= label_encoder.fit_transform(Malfunction.iloc[:, 8])\n",
        "Malfunction.iloc[:, 9]= label_encoder.fit_transform(Malfunction.iloc[:, 9])\n",
        "Malfunction.iloc[:, 10]= label_encoder.fit_transform(Malfunction.iloc[:, 10])\n",
        "Malfunction.iloc[:, 11]= label_encoder.fit_transform(Malfunction.iloc[:, 11])\n",
        "Malfunction.iloc[:, 12]= label_encoder.fit_transform(Malfunction.iloc[:, 12])\n",
        "Malfunction.iloc[:, 13]= label_encoder.fit_transform(Malfunction.iloc[:, 13])\n",
        "Malfunction.iloc[:, 14]= label_encoder.fit_transform(Malfunction.iloc[:, 14])\n",
        "Malfunction.iloc[:, 15]= label_encoder.fit_transform(Malfunction .iloc[:, 15])\n",
        "\n",
        "\"\"\"\n",
        "What was done in this stage is label encoding.\n",
        "Label encoding is a process of converting categorical data into numerical form.\n",
        "It assigns a unique integer to each category in the feature.\n",
        "This transformation is often used in machine learning algorithms that expect numerical input data.\n",
        "However, it's essential to note that label encoding might introduce an implicit ordinal relationship between categories,\n",
        "which may not exist in the data.\n",
        "\"\"\""
      ]
    },
    {
      "cell_type": "markdown",
      "metadata": {
        "id": "rS29rL1BkCBx"
      },
      "source": [
        "## Creating Labels for Each Class"
      ]
    },
    {
      "cell_type": "code",
      "execution_count": 8,
      "metadata": {
        "id": "9_A4P5d2EyEd"
      },
      "outputs": [],
      "source": [
        "\"\"\"\n",
        "Four lists (label1, label2, label3, label4) are created below,\n",
        "each representing the labels for one of the four classes (Attack-Free, Flooding, Fuzzy, Malfunction).\n",
        "Each list is populated with the respective class label\n",
        "which repeated as many times as there are instances in the corresponding DataFrame.\n",
        "\n",
        "\"\"\"\n",
        "\n",
        "label1 = []\n",
        "for i in range(len(AttackFree)):\n",
        "  label1.append(1)\n",
        "\n",
        "label2 = []\n",
        "for i in range(len(Flooding)):\n",
        "  label2.append(2)\n",
        "\n",
        "label3 = []\n",
        "for i in range(len(Fuzzy)):\n",
        "  label3.append(3)\n",
        "\n",
        "label4 = []\n",
        "for i in range(len(Malfunction)):\n",
        "  label4.append(4)\n",
        "\n",
        "# The np.concatenate() function below is used\n",
        "# to concatenate the Attack-Free, Flooding, Fuzzy, and Malfunction DataFrames into a single Dataset array.\n",
        "\n",
        "Dataset = np.concatenate((AttackFree, Flooding, Fuzzy, Malfunction))\n",
        "label = np.concatenate((label1, label2, label3, label4))\n",
        "\n"
      ]
    },
    {
      "cell_type": "markdown",
      "metadata": {
        "id": "WNqeqS_AkoBE"
      },
      "source": [
        "## Data Splitting"
      ]
    },
    {
      "cell_type": "code",
      "execution_count": 9,
      "metadata": {
        "id": "8Arq6cDLkm5K"
      },
      "outputs": [],
      "source": [
        "# Splitting the dataset into the Training set and Test set\n",
        "X_Train, X_Test, Y_Train, Y_Test = train_test_split(Dataset,\n",
        "                                                    label,\n",
        "                                                    test_size = 0.25,\n",
        "                                                    random_state = 0)\n",
        "\n",
        "# It splits the data randomly, with 75% of the data used for training and 25% for testing."
      ]
    },
    {
      "cell_type": "markdown",
      "metadata": {
        "id": "LgaLW3N5kqzr"
      },
      "source": [
        "## Feature Scaling"
      ]
    },
    {
      "cell_type": "code",
      "execution_count": 10,
      "metadata": {
        "id": "4sHFTAToklB5"
      },
      "outputs": [],
      "source": [
        "#def scale(X_Train, X_Test):\n",
        "sc_X = StandardScaler()\n",
        "X_Train = sc_X.fit_transform(X_Train)\n",
        "X_Test = sc_X.transform(X_Test)\n",
        "# transform() is called on X_Test to scale the test set using the same scaling parameters learned from the training set.\n",
        "\n",
        "#scale()\n",
        "# Call the scale funciton on the features"
      ]
    },
    {
      "cell_type": "code",
      "execution_count": 11,
      "metadata": {
        "id": "wRTNwPE8nDQZ"
      },
      "outputs": [],
      "source": [
        "# So we can plot the confusion matrices in later blocks\n",
        "label = ['AttackFree', 'DoS', 'Fuzzy', 'Impersonation']"
      ]
    },
    {
      "cell_type": "markdown",
      "metadata": {
        "id": "PviPQt8Tky0C"
      },
      "source": [
        "## Train SVM Classifier"
      ]
    },
    {
      "cell_type": "code",
      "execution_count": null,
      "metadata": {
        "colab": {
          "base_uri": "https://localhost:8080/"
        },
        "id": "_DzEja7OmXQt",
        "outputId": "380aa168-0781-4595-a5b3-bae05e54fba8"
      },
      "outputs": [
        {
          "name": "stdout",
          "output_type": "stream",
          "text": [
            "Training Duration: 0:13:23.291517\n",
            "Testing Duration: 0:01:27.380223\n"
          ]
        }
      ],
      "source": [
        "# SVM classifier initialization\n",
        "classifier_svm = SVC(kernel = 'rbf',\n",
        "                     gamma='scale',\n",
        "                     random_state = 0,\n",
        "                     max_iter=-1,\n",
        "                     tol=0.0001,\n",
        "                     degree=3,\n",
        "                     verbose=False,\n",
        "                     class_weight=None,\n",
        "                     C=100.0)\n",
        "\n",
        "start_time_1 = datetime.now()\n",
        "\n",
        "classifier_svm.fit(X_Train, Y_Train)\n",
        "\n",
        "end_time_1 = datetime.now()\n",
        "print('Training Duration: {}'.format(end_time_1 - start_time_1))\n",
        "\n",
        "# SVM Testing\n",
        "start_time_2 = datetime.now()\n",
        "\n",
        "# Predicting the test set results\n",
        "Y_Pred_svm = classifier_svm.predict(X_Test)\n",
        "\n",
        "end_time_2 = datetime.now()\n",
        "print('Testing Duration: {}'.format(end_time_2 - start_time_2))\n",
        "\n",
        "# Here, we train an SVM classifier with an RBF kernel on the training data and evaluates its performance on the test data."
      ]
    },
    {
      "cell_type": "markdown",
      "metadata": {
        "id": "sjR0MHx6lPbG"
      },
      "source": [
        "## SVM Confusion Matrix"
      ]
    },
    {
      "cell_type": "code",
      "execution_count": null,
      "metadata": {
        "id": "nR--MLJNFBW7"
      },
      "outputs": [],
      "source": [
        "# Making the Confusion Matrix :SVM\n",
        "\"\"\"\n",
        "We'll calculate the confusion matrix for the true labels (Y_Test) and\n",
        "predicted labels (Y_Pred_svm) obtained from the SVM classifier.\n",
        "\"\"\"\n",
        "\n",
        "# Making the Confusion Matrix :SVM\n",
        "cm_svm = confusion_matrix(Y_Test, Y_Pred_svm)\n",
        "cm_svm\n",
        "\n",
        "import seaborn as sn\n",
        "import matplotlib.pyplot as plt\n",
        "\n",
        "font = {'family' : 'normal',\n",
        "        'size'   : 14}\n",
        "\n",
        "plt.rc('font', **font)\n",
        "\n",
        "label = ['AttackFree', 'Flooding', 'Fuzzy', 'Malfunction']\n",
        "\n",
        "\n",
        "df_cm_svm = pd.DataFrame(cm_svm, index = [i for i in label],\n",
        "                  columns = [i for i in label])\n",
        "\n",
        "plt.figure(figsize = (7,5))\n",
        "sn.heatmap(df_cm_svm, annot=True, fmt='.0f', cmap='Blues')\n",
        "plt.ylabel('True Class')\n",
        "plt.xlabel('Predicted Class')\n",
        "plt.show()"
      ]
    },
    {
      "cell_type": "markdown",
      "metadata": {
        "id": "qOJgJmrKlzCu"
      },
      "source": [
        "## SVM Evaluation"
      ]
    },
    {
      "cell_type": "code",
      "execution_count": null,
      "metadata": {
        "id": "7wBkiIhsFHgF"
      },
      "outputs": [],
      "source": [
        "print(\"Accuracy:\",metrics.accuracy_score(Y_Test, Y_Pred_svm))\n",
        "print(\"Precision:\",metrics.precision_score(Y_Test, Y_Pred_svm, average='micro'))\n",
        "print(\"Recall:\",metrics.recall_score(Y_Test, Y_Test, average='micro'))\n",
        "print(\"F1_Score:\",metrics.f1_score(Y_Test, Y_Test, average='micro'))\n",
        "print(\"Cohen_Kappa_Score:\",sklearn.metrics.cohen_kappa_score(Y_Test, Y_Pred_svm, labels=None, weights=None, sample_weight=None))"
      ]
    },
    {
      "cell_type": "code",
      "execution_count": null,
      "metadata": {
        "id": "2NXdnc6aFLjP"
      },
      "outputs": [],
      "source": [
        "# Individual Clasification - SVM\n",
        "print(classification_report(Y_Test, Y_Pred_svm))"
      ]
    },
    {
      "cell_type": "markdown",
      "metadata": {
        "id": "aEe1lRlPl7g2"
      },
      "source": [
        "## Train DT Classifier"
      ]
    },
    {
      "cell_type": "code",
      "execution_count": 12,
      "metadata": {
        "colab": {
          "base_uri": "https://localhost:8080/"
        },
        "id": "tUI6yM_Gmcqp",
        "outputId": "fda6b4bd-376b-44dd-ec25-4af5c1c47783"
      },
      "outputs": [
        {
          "name": "stdout",
          "output_type": "stream",
          "text": [
            "Training Duration: 0:00:00.801274\n",
            "Testing Duration: 0:00:00.003359\n"
          ]
        },
        {
          "data": {
            "text/plain": [
              "array([1, 1, 3, ..., 2, 2, 1])"
            ]
          },
          "execution_count": 12,
          "metadata": {},
          "output_type": "execute_result"
        }
      ],
      "source": [
        "# DT classifier\n",
        "classifier_dt = tree.DecisionTreeClassifier(criterion='gini',\n",
        "                                            splitter='best',\n",
        "                                            random_state=0,\n",
        "                                            max_depth=None)\n",
        "start_time_1 = datetime.now()\n",
        "classifier_dt.fit(X_Train, Y_Train)\n",
        "end_time_1 = datetime.now()\n",
        "print('Training Duration: {}'.format(end_time_1 - start_time_1))\n",
        "\n",
        "#DT Testing\n",
        "start_time_2 = datetime.now()\n",
        "\n",
        "# Predicting the test set results\n",
        "Y_Pred_dt = classifier_dt.predict(X_Test)\n",
        "\n",
        "end_time_2 = datetime.now()\n",
        "print('Testing Duration: {}'.format(end_time_2 - start_time_2))\n",
        "Y_Pred_dt"
      ]
    },
    {
      "cell_type": "markdown",
      "metadata": {
        "id": "bD5SAuDilvdq"
      },
      "source": [
        "## DT Confusion Matrix"
      ]
    },
    {
      "cell_type": "code",
      "execution_count": 14,
      "metadata": {
        "colab": {
          "base_uri": "https://localhost:8080/",
          "height": 1000
        },
        "id": "SYgb4xRCmffv",
        "outputId": "377d27be-6716-4e00-896a-b5dd31e71680"
      },
      "outputs": [
        {
          "name": "stderr",
          "output_type": "stream",
          "text": [
            "findfont: Font family 'normal' not found.\n",
            "findfont: Font family 'normal' not found.\n",
            "findfont: Font family 'normal' not found.\n",
            "findfont: Font family 'normal' not found.\n",
            "findfont: Font family 'normal' not found.\n",
            "findfont: Font family 'normal' not found.\n",
            "findfont: Font family 'normal' not found.\n",
            "findfont: Font family 'normal' not found.\n",
            "findfont: Font family 'normal' not found.\n",
            "findfont: Font family 'normal' not found.\n",
            "findfont: Font family 'normal' not found.\n",
            "findfont: Font family 'normal' not found.\n",
            "findfont: Font family 'normal' not found.\n",
            "findfont: Font family 'normal' not found.\n",
            "findfont: Font family 'normal' not found.\n",
            "findfont: Font family 'normal' not found.\n",
            "findfont: Font family 'normal' not found.\n",
            "findfont: Font family 'normal' not found.\n",
            "findfont: Font family 'normal' not found.\n",
            "findfont: Font family 'normal' not found.\n",
            "findfont: Font family 'normal' not found.\n",
            "findfont: Font family 'normal' not found.\n",
            "findfont: Font family 'normal' not found.\n",
            "findfont: Font family 'normal' not found.\n",
            "findfont: Font family 'normal' not found.\n",
            "findfont: Font family 'normal' not found.\n",
            "findfont: Font family 'normal' not found.\n",
            "findfont: Font family 'normal' not found.\n",
            "findfont: Font family 'normal' not found.\n",
            "findfont: Font family 'normal' not found.\n",
            "findfont: Font family 'normal' not found.\n",
            "findfont: Font family 'normal' not found.\n",
            "findfont: Font family 'normal' not found.\n",
            "findfont: Font family 'normal' not found.\n",
            "findfont: Font family 'normal' not found.\n",
            "findfont: Font family 'normal' not found.\n",
            "findfont: Font family 'normal' not found.\n",
            "findfont: Font family 'normal' not found.\n",
            "findfont: Font family 'normal' not found.\n",
            "findfont: Font family 'normal' not found.\n",
            "findfont: Font family 'normal' not found.\n",
            "findfont: Font family 'normal' not found.\n",
            "findfont: Font family 'normal' not found.\n",
            "findfont: Font family 'normal' not found.\n",
            "findfont: Font family 'normal' not found.\n",
            "findfont: Font family 'normal' not found.\n",
            "findfont: Font family 'normal' not found.\n",
            "findfont: Font family 'normal' not found.\n",
            "findfont: Font family 'normal' not found.\n",
            "findfont: Font family 'normal' not found.\n",
            "findfont: Font family 'normal' not found.\n",
            "findfont: Font family 'normal' not found.\n",
            "findfont: Font family 'normal' not found.\n",
            "findfont: Font family 'normal' not found.\n",
            "findfont: Font family 'normal' not found.\n",
            "findfont: Font family 'normal' not found.\n",
            "findfont: Font family 'normal' not found.\n",
            "findfont: Font family 'normal' not found.\n",
            "findfont: Font family 'normal' not found.\n",
            "findfont: Font family 'normal' not found.\n",
            "findfont: Font family 'normal' not found.\n",
            "findfont: Font family 'normal' not found.\n",
            "findfont: Font family 'normal' not found.\n",
            "findfont: Font family 'normal' not found.\n",
            "findfont: Font family 'normal' not found.\n",
            "findfont: Font family 'normal' not found.\n",
            "findfont: Font family 'normal' not found.\n",
            "findfont: Font family 'normal' not found.\n",
            "findfont: Font family 'normal' not found.\n",
            "findfont: Font family 'normal' not found.\n",
            "findfont: Font family 'normal' not found.\n",
            "findfont: Font family 'normal' not found.\n",
            "findfont: Font family 'normal' not found.\n",
            "findfont: Font family 'normal' not found.\n",
            "findfont: Font family 'normal' not found.\n",
            "findfont: Font family 'normal' not found.\n",
            "findfont: Font family 'normal' not found.\n",
            "findfont: Font family 'normal' not found.\n",
            "findfont: Font family 'normal' not found.\n",
            "findfont: Font family 'normal' not found.\n",
            "findfont: Font family 'normal' not found.\n",
            "findfont: Font family 'normal' not found.\n",
            "findfont: Font family 'normal' not found.\n",
            "findfont: Font family 'normal' not found.\n",
            "findfont: Font family 'normal' not found.\n",
            "findfont: Font family 'normal' not found.\n",
            "findfont: Font family 'normal' not found.\n",
            "findfont: Font family 'normal' not found.\n",
            "findfont: Font family 'normal' not found.\n",
            "findfont: Font family 'normal' not found.\n",
            "findfont: Font family 'normal' not found.\n",
            "findfont: Font family 'normal' not found.\n",
            "findfont: Font family 'normal' not found.\n",
            "findfont: Font family 'normal' not found.\n",
            "findfont: Font family 'normal' not found.\n",
            "findfont: Font family 'normal' not found.\n"
          ]
        },
        {
          "data": {
            "image/png": "[encoded data removed]",
            "text/plain": [
              "<Figure size 700x500 with 2 Axes>"
            ]
          },
          "metadata": {},
          "output_type": "display_data"
        }
      ],
      "source": [
        "# Making the Confusion Matrix :DT\n",
        "cm_dt = confusion_matrix(Y_Test, Y_Pred_dt)\n",
        "cm_dt\n",
        "\n",
        "import seaborn as sn\n",
        "import matplotlib.pyplot as plt\n",
        "\n",
        "\n",
        "\n",
        "font = {'family' : 'normal',\n",
        "        'size'   : 14}\n",
        "\n",
        "plt.rc('font', **font)\n",
        "\n",
        "label = ['AttackFree', 'DoS', 'Fuzzy', 'Impersonation']\n",
        "\n",
        "\n",
        "df_cm_dt = pd.DataFrame(cm_dt, index = [i for i in label],\n",
        "                  columns = [i for i in label])\n",
        "\n",
        "plt.figure(figsize = (7,5))\n",
        "sn.heatmap(df_cm_dt, annot=True, fmt='.0f', cmap='Blues')\n",
        "plt.ylabel('True Class')\n",
        "plt.xlabel('Predicted Class')\n",
        "plt.show()"
      ]
    },
    {
      "cell_type": "markdown",
      "metadata": {
        "id": "kSr3zbfhlp1H"
      },
      "source": [
        "## DT Evaluation"
      ]
    },
    {
      "cell_type": "code",
      "execution_count": 15,
      "metadata": {
        "colab": {
          "base_uri": "https://localhost:8080/"
        },
        "id": "h34zBkUbFXXk",
        "outputId": "ff6f73eb-7f31-4cf2-8290-c639b1209a19"
      },
      "outputs": [
        {
          "name": "stdout",
          "output_type": "stream",
          "text": [
            "Accuracy: 0.9996189109820888\n",
            "Precision: 0.9996189109820888\n",
            "Recall: 1.0\n",
            "F1_Score: 1.0\n",
            "Cohen_Kappa_Score: 0.999456690962917\n"
          ]
        }
      ],
      "source": [
        "#evaluation for DT\n",
        "\n",
        "print(\"Accuracy:\",metrics.accuracy_score(Y_Test, Y_Pred_dt))\n",
        "print(\"Precision:\",metrics.precision_score(Y_Test, Y_Pred_dt, average='micro'))\n",
        "print(\"Recall:\",metrics.recall_score(Y_Test, Y_Test, average='micro'))\n",
        "print(\"F1_Score:\",metrics.f1_score(Y_Test, Y_Test, average='micro'))\n",
        "print(\"Cohen_Kappa_Score:\",sklearn.metrics.cohen_kappa_score(Y_Test, Y_Pred_dt, labels=None, weights=None, sample_weight=None))\n",
        "#print(\"MSE:\",metrics.mean_squared_error(Y_Test,Y_Pred_svm))"
      ]
    },
    {
      "cell_type": "code",
      "execution_count": 16,
      "metadata": {
        "colab": {
          "base_uri": "https://localhost:8080/",
          "height": 261
        },
        "id": "3ElaiQ8iFZ3o",
        "outputId": "0e0f8137-6633-4a0d-c2a0-49ae7611fbd9"
      },
      "outputs": [
        {
          "name": "stdout",
          "output_type": "stream",
          "text": [
            "              precision    recall  f1-score   support\n",
            "\n",
            "           1       1.00      1.00      1.00     18188\n",
            "           2       1.00      1.00      1.00     13251\n",
            "           3       1.00      1.00      1.00      5889\n",
            "           4       1.00      1.00      1.00      7281\n",
            "\n",
            "    accuracy                           1.00     44609\n",
            "   macro avg       1.00      1.00      1.00     44609\n",
            "weighted avg       1.00      1.00      1.00     44609\n",
            "\n"
          ]
        },
        {
          "data": {
            "text/plain": [
              "'\\nThe classification report summarizes these metrics for each class individually and also\\nprovides the weighted average (averaged across all classes, weighted by the number of true instances for each class)\\nand the macro average (averaged across all classes,\\ngiving each class equal weight regardless of its size) of precision, recall, and F1-score.\\n'"
            ]
          },
          "execution_count": 16,
          "metadata": {},
          "output_type": "execute_result"
        }
      ],
      "source": [
        "# Individual Clasification - DT\n",
        "print(classification_report(Y_Test, Y_Pred_dt))\n",
        "\n",
        "\"\"\"\n",
        "The classification report summarizes these metrics for each class individually and also\n",
        "provides the weighted average (averaged across all classes, weighted by the number of true instances for each class)\n",
        "and the macro average (averaged across all classes,\n",
        "giving each class equal weight regardless of its size) of precision, recall, and F1-score.\n",
        "\"\"\""
      ]
    },
    {
      "cell_type": "markdown",
      "metadata": {
        "id": "tlXlnxsBmW_t"
      },
      "source": [
        "## Predicting on New Instances with DT\n",
        "Here, we'll make predictions on new data instances or cases."
      ]
    },
    {
      "cell_type": "code",
      "execution_count": 27,
      "metadata": {
        "id": "FciNAAkanSis"
      },
      "outputs": [],
      "source": [
        "read_New = pd.read_csv('/content/drive/MyDrive/newdata.csv')[0:10]\n",
        "\n",
        "read_New.iloc[:, 1]= label_encoder.fit_transform(read_New.iloc[:, 1])\n",
        "read_New.iloc[:, 2]= label_encoder.fit_transform(read_New.iloc[:, 2])\n",
        "read_New.iloc[:, 3]= label_encoder.fit_transform(read_New.iloc[:, 3])\n",
        "read_New.iloc[:, 4]= label_encoder.fit_transform(read_New.iloc[:, 4])\n",
        "read_New.iloc[:, 5]= label_encoder.fit_transform(read_New.iloc[:, 5])\n",
        "read_New.iloc[:, 6]= label_encoder.fit_transform(read_New.iloc[:, 6])\n",
        "read_New.iloc[:, 7]= label_encoder.fit_transform(read_New.iloc[:, 7])\n",
        "read_New.iloc[:, 8]= label_encoder.fit_transform(read_New.iloc[:, 8])\n",
        "read_New.iloc[:, 9]= label_encoder.fit_transform(read_New.iloc[:, 9])\n",
        "read_New.iloc[:, 10]= label_encoder.fit_transform(read_New.iloc[:, 10])\n",
        "read_New.iloc[:, 11]= label_encoder.fit_transform(read_New.iloc[:, 11])\n",
        "read_New.iloc[:, 12]= label_encoder.fit_transform(read_New.iloc[:, 12])\n",
        "read_New.iloc[:, 13]= label_encoder.fit_transform(read_New.iloc[:, 13])\n",
        "read_New.iloc[:, 14]= label_encoder.fit_transform(read_New.iloc[:, 14])\n",
        "read_New.iloc[:, 15]= label_encoder.fit_transform(read_New.iloc[:, 15])\n",
        "\n",
        "# Feature Scaling for new instances - though this won't be needed\n",
        "#sc_X = StandardScaler()\n",
        "#X_New = sc_X.transform(read_New)\n",
        "\n",
        "#X_New = []"
      ]
    },
    {
      "cell_type": "code",
      "execution_count": null,
      "metadata": {
        "colab": {
          "base_uri": "https://localhost:8080/"
        },
        "id": "BuQRLcLCnNhp",
        "outputId": "cb4da788-f056-4001-ecf3-dda5a5b11f8a"
      },
      "outputs": [
        {
          "name": "stdout",
          "output_type": "stream",
          "text": [
            "Prediction for single instance: [3 3 3 3 3 3 3 3 3 3]\n"
          ]
        },
        {
          "name": "stderr",
          "output_type": "stream",
          "text": [
            "/usr/local/lib/python3.10/dist-packages/sklearn/base.py:486: UserWarning: X has feature names, but DecisionTreeClassifier was fitted without feature names\n",
            "  warnings.warn(\n"
          ]
        }
      ],
      "source": [
        "Y_Pred_single_instance = classifier_dt.predict(read_New)\n",
        "\n",
        "print(\"Prediction for single instance:\", Y_Pred_single_instance)"
      ]
    },
    {
      "cell_type": "markdown",
      "metadata": {
        "id": "eezrFMu2nkSF"
      },
      "source": [
        "## KNN Classifier"
      ]
    },
    {
      "cell_type": "code",
      "execution_count": 28,
      "metadata": {
        "colab": {
          "base_uri": "https://localhost:8080/"
        },
        "id": "1zmfCdCsFb_C",
        "outputId": "a31a582c-bd52-465c-8ed6-1bb4fefe7ca0"
      },
      "outputs": [
        {
          "name": "stdout",
          "output_type": "stream",
          "text": [
            "Training Duration: 0:00:00.016067\n",
            "Testing Duration: 0:00:36.081661\n"
          ]
        }
      ],
      "source": [
        "# KNN classifier\n",
        "classifier_knn = neighbors.KNeighborsClassifier(n_neighbors=5,\n",
        "                                                weights='uniform',\n",
        "                                                algorithm='auto',\n",
        "                                                leaf_size=30,\n",
        "                                                p=2,\n",
        "                                                metric='minkowski',\n",
        "                                                metric_params=None,\n",
        "                                                n_jobs=None)\n",
        "\n",
        "start_time_1 = datetime.now()\n",
        "\n",
        "classifier_knn.fit(X_Train, Y_Train)\n",
        "\n",
        "end_time_1 = datetime.now()\n",
        "print('Training Duration: {}'.format(end_time_1 - start_time_1))\n",
        "\n",
        "# KNN Testing time\n",
        "start_time_2 = datetime.now()\n",
        "\n",
        "# Predicting the test set results\n",
        "Y_Pred_knn = classifier_knn.predict(X_Test)\n",
        "\n",
        "end_time_2 = datetime.now()\n",
        "print('Testing Duration: {}'.format(end_time_2 - start_time_2))"
      ]
    },
    {
      "cell_type": "markdown",
      "metadata": {
        "id": "Jbih6m2PnpkV"
      },
      "source": [
        "## KNN Confusion Matrix"
      ]
    },
    {
      "cell_type": "code",
      "execution_count": 29,
      "metadata": {
        "colab": {
          "base_uri": "https://localhost:8080/",
          "height": 1000
        },
        "id": "1toXFc-gFgd1",
        "outputId": "2480d477-cab8-42b8-8e32-e44b381df541"
      },
      "outputs": [
        {
          "name": "stderr",
          "output_type": "stream",
          "text": [
            "WARNING:matplotlib.font_manager:findfont: Font family 'normal' not found.\n",
            "WARNING:matplotlib.font_manager:findfont: Font family 'normal' not found.\n",
            "WARNING:matplotlib.font_manager:findfont: Font family 'normal' not found.\n",
            "WARNING:matplotlib.font_manager:findfont: Font family 'normal' not found.\n",
            "WARNING:matplotlib.font_manager:findfont: Font family 'normal' not found.\n",
            "WARNING:matplotlib.font_manager:findfont: Font family 'normal' not found.\n",
            "WARNING:matplotlib.font_manager:findfont: Font family 'normal' not found.\n",
            "WARNING:matplotlib.font_manager:findfont: Font family 'normal' not found.\n",
            "WARNING:matplotlib.font_manager:findfont: Font family 'normal' not found.\n",
            "WARNING:matplotlib.font_manager:findfont: Font family 'normal' not found.\n",
            "WARNING:matplotlib.font_manager:findfont: Font family 'normal' not found.\n",
            "WARNING:matplotlib.font_manager:findfont: Font family 'normal' not found.\n",
            "WARNING:matplotlib.font_manager:findfont: Font family 'normal' not found.\n",
            "WARNING:matplotlib.font_manager:findfont: Font family 'normal' not found.\n",
            "WARNING:matplotlib.font_manager:findfont: Font family 'normal' not found.\n",
            "WARNING:matplotlib.font_manager:findfont: Font family 'normal' not found.\n",
            "WARNING:matplotlib.font_manager:findfont: Font family 'normal' not found.\n",
            "WARNING:matplotlib.font_manager:findfont: Font family 'normal' not found.\n",
            "WARNING:matplotlib.font_manager:findfont: Font family 'normal' not found.\n",
            "WARNING:matplotlib.font_manager:findfont: Font family 'normal' not found.\n",
            "WARNING:matplotlib.font_manager:findfont: Font family 'normal' not found.\n",
            "WARNING:matplotlib.font_manager:findfont: Font family 'normal' not found.\n",
            "WARNING:matplotlib.font_manager:findfont: Font family 'normal' not found.\n",
            "WARNING:matplotlib.font_manager:findfont: Font family 'normal' not found.\n",
            "WARNING:matplotlib.font_manager:findfont: Font family 'normal' not found.\n",
            "WARNING:matplotlib.font_manager:findfont: Font family 'normal' not found.\n",
            "WARNING:matplotlib.font_manager:findfont: Font family 'normal' not found.\n",
            "WARNING:matplotlib.font_manager:findfont: Font family 'normal' not found.\n",
            "WARNING:matplotlib.font_manager:findfont: Font family 'normal' not found.\n",
            "WARNING:matplotlib.font_manager:findfont: Font family 'normal' not found.\n",
            "WARNING:matplotlib.font_manager:findfont: Font family 'normal' not found.\n",
            "WARNING:matplotlib.font_manager:findfont: Font family 'normal' not found.\n",
            "WARNING:matplotlib.font_manager:findfont: Font family 'normal' not found.\n",
            "WARNING:matplotlib.font_manager:findfont: Font family 'normal' not found.\n",
            "WARNING:matplotlib.font_manager:findfont: Font family 'normal' not found.\n",
            "WARNING:matplotlib.font_manager:findfont: Font family 'normal' not found.\n",
            "WARNING:matplotlib.font_manager:findfont: Font family 'normal' not found.\n",
            "WARNING:matplotlib.font_manager:findfont: Font family 'normal' not found.\n",
            "WARNING:matplotlib.font_manager:findfont: Font family 'normal' not found.\n",
            "WARNING:matplotlib.font_manager:findfont: Font family 'normal' not found.\n",
            "WARNING:matplotlib.font_manager:findfont: Font family 'normal' not found.\n",
            "WARNING:matplotlib.font_manager:findfont: Font family 'normal' not found.\n",
            "WARNING:matplotlib.font_manager:findfont: Font family 'normal' not found.\n",
            "WARNING:matplotlib.font_manager:findfont: Font family 'normal' not found.\n",
            "WARNING:matplotlib.font_manager:findfont: Font family 'normal' not found.\n",
            "WARNING:matplotlib.font_manager:findfont: Font family 'normal' not found.\n",
            "WARNING:matplotlib.font_manager:findfont: Font family 'normal' not found.\n",
            "WARNING:matplotlib.font_manager:findfont: Font family 'normal' not found.\n",
            "WARNING:matplotlib.font_manager:findfont: Font family 'normal' not found.\n",
            "WARNING:matplotlib.font_manager:findfont: Font family 'normal' not found.\n",
            "WARNING:matplotlib.font_manager:findfont: Font family 'normal' not found.\n",
            "WARNING:matplotlib.font_manager:findfont: Font family 'normal' not found.\n",
            "WARNING:matplotlib.font_manager:findfont: Font family 'normal' not found.\n",
            "WARNING:matplotlib.font_manager:findfont: Font family 'normal' not found.\n",
            "WARNING:matplotlib.font_manager:findfont: Font family 'normal' not found.\n",
            "WARNING:matplotlib.font_manager:findfont: Font family 'normal' not found.\n",
            "WARNING:matplotlib.font_manager:findfont: Font family 'normal' not found.\n",
            "WARNING:matplotlib.font_manager:findfont: Font family 'normal' not found.\n",
            "WARNING:matplotlib.font_manager:findfont: Font family 'normal' not found.\n",
            "WARNING:matplotlib.font_manager:findfont: Font family 'normal' not found.\n",
            "WARNING:matplotlib.font_manager:findfont: Font family 'normal' not found.\n",
            "WARNING:matplotlib.font_manager:findfont: Font family 'normal' not found.\n",
            "WARNING:matplotlib.font_manager:findfont: Font family 'normal' not found.\n",
            "WARNING:matplotlib.font_manager:findfont: Font family 'normal' not found.\n",
            "WARNING:matplotlib.font_manager:findfont: Font family 'normal' not found.\n",
            "WARNING:matplotlib.font_manager:findfont: Font family 'normal' not found.\n",
            "WARNING:matplotlib.font_manager:findfont: Font family 'normal' not found.\n",
            "WARNING:matplotlib.font_manager:findfont: Font family 'normal' not found.\n",
            "WARNING:matplotlib.font_manager:findfont: Font family 'normal' not found.\n",
            "WARNING:matplotlib.font_manager:findfont: Font family 'normal' not found.\n",
            "WARNING:matplotlib.font_manager:findfont: Font family 'normal' not found.\n",
            "WARNING:matplotlib.font_manager:findfont: Font family 'normal' not found.\n",
            "WARNING:matplotlib.font_manager:findfont: Font family 'normal' not found.\n",
            "WARNING:matplotlib.font_manager:findfont: Font family 'normal' not found.\n",
            "WARNING:matplotlib.font_manager:findfont: Font family 'normal' not found.\n",
            "WARNING:matplotlib.font_manager:findfont: Font family 'normal' not found.\n",
            "WARNING:matplotlib.font_manager:findfont: Font family 'normal' not found.\n",
            "WARNING:matplotlib.font_manager:findfont: Font family 'normal' not found.\n",
            "WARNING:matplotlib.font_manager:findfont: Font family 'normal' not found.\n",
            "WARNING:matplotlib.font_manager:findfont: Font family 'normal' not found.\n",
            "WARNING:matplotlib.font_manager:findfont: Font family 'normal' not found.\n",
            "WARNING:matplotlib.font_manager:findfont: Font family 'normal' not found.\n",
            "WARNING:matplotlib.font_manager:findfont: Font family 'normal' not found.\n",
            "WARNING:matplotlib.font_manager:findfont: Font family 'normal' not found.\n",
            "WARNING:matplotlib.font_manager:findfont: Font family 'normal' not found.\n",
            "WARNING:matplotlib.font_manager:findfont: Font family 'normal' not found.\n",
            "WARNING:matplotlib.font_manager:findfont: Font family 'normal' not found.\n",
            "WARNING:matplotlib.font_manager:findfont: Font family 'normal' not found.\n",
            "WARNING:matplotlib.font_manager:findfont: Font family 'normal' not found.\n",
            "WARNING:matplotlib.font_manager:findfont: Font family 'normal' not found.\n",
            "WARNING:matplotlib.font_manager:findfont: Font family 'normal' not found.\n",
            "WARNING:matplotlib.font_manager:findfont: Font family 'normal' not found.\n",
            "WARNING:matplotlib.font_manager:findfont: Font family 'normal' not found.\n",
            "WARNING:matplotlib.font_manager:findfont: Font family 'normal' not found.\n",
            "WARNING:matplotlib.font_manager:findfont: Font family 'normal' not found.\n",
            "WARNING:matplotlib.font_manager:findfont: Font family 'normal' not found.\n",
            "WARNING:matplotlib.font_manager:findfont: Font family 'normal' not found.\n",
            "WARNING:matplotlib.font_manager:findfont: Font family 'normal' not found.\n",
            "WARNING:matplotlib.font_manager:findfont: Font family 'normal' not found.\n",
            "WARNING:matplotlib.font_manager:findfont: Font family 'normal' not found.\n",
            "WARNING:matplotlib.font_manager:findfont: Font family 'normal' not found.\n",
            "WARNING:matplotlib.font_manager:findfont: Font family 'normal' not found.\n",
            "WARNING:matplotlib.font_manager:findfont: Font family 'normal' not found.\n",
            "WARNING:matplotlib.font_manager:findfont: Font family 'normal' not found.\n"
          ]
        },
        {
          "data": {
            "image/png": "[encoded data removed]",
            "text/plain": [
              "<Figure size 700x500 with 2 Axes>"
            ]
          },
          "metadata": {},
          "output_type": "display_data"
        }
      ],
      "source": [
        "# Making the Confusion Matrix :knn\n",
        "cm_knn = confusion_matrix(Y_Test, Y_Pred_knn)\n",
        "cm_knn\n",
        "\n",
        "font = {'family' : 'normal',\n",
        "        'size'   : 14}\n",
        "\n",
        "plt.rc('font', **font)\n",
        "\n",
        "df_cm_knn = pd.DataFrame(cm_knn, index = [i for i in label],\n",
        "                  columns = [i for i in label])\n",
        "\n",
        "plt.figure(figsize = (7,5))\n",
        "sn.heatmap(df_cm_knn, annot=True, fmt='.0f', cmap='Blues')\n",
        "plt.ylabel('True Class')\n",
        "plt.xlabel('Predicted Class')\n",
        "plt.show()"
      ]
    },
    {
      "cell_type": "markdown",
      "metadata": {
        "id": "hkQGtA2rnzEO"
      },
      "source": [
        "## KNN Evaluation"
      ]
    },
    {
      "cell_type": "code",
      "execution_count": 30,
      "metadata": {
        "colab": {
          "base_uri": "https://localhost:8080/"
        },
        "id": "3OY8IjInFlHV",
        "outputId": "8f332dbb-b6d0-4a09-9396-b1aa35241c69"
      },
      "outputs": [
        {
          "name": "stdout",
          "output_type": "stream",
          "text": [
            "Accuracy: 0.9776502499495617\n",
            "Precision: 0.9776502499495617\n",
            "Recall: 1.0\n",
            "F1_Score: 1.0\n",
            "Cohen_Kappa_Score: 0.968105350391031\n"
          ]
        }
      ],
      "source": [
        "#evaluation for KNN\n",
        "print(\"Accuracy:\",metrics.accuracy_score(Y_Test, Y_Pred_knn))\n",
        "print(\"Precision:\",metrics.precision_score(Y_Test, Y_Pred_knn, average='micro'))\n",
        "print(\"Recall:\",metrics.recall_score(Y_Test, Y_Test, average='micro'))\n",
        "print(\"F1_Score:\",metrics.f1_score(Y_Test, Y_Test, average='micro'))\n",
        "print(\"Cohen_Kappa_Score:\",sklearn.metrics.cohen_kappa_score(Y_Test, Y_Pred_knn, labels=None, weights=None, sample_weight=None))"
      ]
    },
    {
      "cell_type": "code",
      "execution_count": 31,
      "metadata": {
        "colab": {
          "base_uri": "https://localhost:8080/"
        },
        "id": "CL02WyKeFnp1",
        "outputId": "22ff98d2-4acb-4b5e-cbc0-7710399b3cd6"
      },
      "outputs": [
        {
          "name": "stdout",
          "output_type": "stream",
          "text": [
            "              precision    recall  f1-score   support\n",
            "\n",
            "           1       0.98      0.99      0.98     18188\n",
            "           2       0.97      0.97      0.97     13251\n",
            "           3       1.00      1.00      1.00      5889\n",
            "           4       0.97      0.96      0.97      7281\n",
            "\n",
            "    accuracy                           0.98     44609\n",
            "   macro avg       0.98      0.98      0.98     44609\n",
            "weighted avg       0.98      0.98      0.98     44609\n",
            "\n"
          ]
        }
      ],
      "source": [
        "# Individual Clasification- KNN\n",
        "print(classification_report(Y_Test, Y_Pred_knn))"
      ]
    },
    {
      "cell_type": "markdown",
      "metadata": {
        "id": "SUrFSBJxn5th"
      },
      "source": [
        "## Predicting New Instances with KNN"
      ]
    },
    {
      "cell_type": "code",
      "execution_count": 32,
      "metadata": {
        "colab": {
          "base_uri": "https://localhost:8080/"
        },
        "id": "m7I53WC__dvw",
        "outputId": "385f4689-b3f6-443b-9c68-453bbf4c920d"
      },
      "outputs": [
        {
          "name": "stdout",
          "output_type": "stream",
          "text": [
            "Prediction for single instance: [3 3 3 3 3 3 3 3 3 3]\n"
          ]
        },
        {
          "name": "stderr",
          "output_type": "stream",
          "text": [
            "/usr/local/lib/python3.10/dist-packages/sklearn/base.py:486: UserWarning: X has feature names, but KNeighborsClassifier was fitted without feature names\n",
            "  warnings.warn(\n"
          ]
        }
      ],
      "source": [
        "Y_Pred_single_instance = classifier_knn.predict(read_New)\n",
        "\n",
        "print(\"Prediction for single instance:\", Y_Pred_single_instance)"
      ]
    }
  ],
  "metadata": {
    "colab": {
      "provenance": []
    },
    "kernelspec": {
      "display_name": "Python 3",
      "name": "python3"
    },
    "language_info": {
      "codemirror_mode": {
        "name": "ipython",
        "version": 3
      },
      "file_extension": ".py",
      "mimetype": "text/x-python",
      "name": "python",
      "nbconvert_exporter": "python",
      "pygments_lexer": "ipython3",
      "version": "3.10.13"
    }
  },
  "nbformat": 4,
  "nbformat_minor": 0
}
